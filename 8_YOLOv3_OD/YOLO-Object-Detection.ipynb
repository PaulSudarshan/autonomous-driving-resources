{
 "cells": [
  {
   "cell_type": "markdown",
   "metadata": {},
   "source": [
    "# YOLO v3 Object Detection\n",
    "\n",
    "Let's see how to use the state of the art in object detection! Please make sure to watch the video, there is no code along here, since we can't reasonably train the YOLOv3 network ourself, instead we will use a pre-established version.\n",
    "\n",
    "CODE SOURCE: https://github.com/xiaochus/YOLOv3\n",
    "\n",
    "REFERENCE (for original YOLOv3): \n",
    "\n",
    "        @article{YOLOv3,  \n",
    "              title={YOLOv3: An Incremental Improvement},  \n",
    "              author={J Redmon, A Farhadi },\n",
    "              year={2018} \n",
    "--------\n",
    "----------\n",
    "\n",
    "-------\n",
    "-------"
   ]
  },
  {
   "cell_type": "code",
   "execution_count": 14,
   "metadata": {},
   "outputs": [],
   "source": [
    "import os\n",
    "import time\n",
    "import cv2\n",
    "import numpy as np\n",
    "import matplotlib.pyplot as plt\n",
    "from model.yolo_model import YOLO"
   ]
  },
  {
   "cell_type": "code",
   "execution_count": 2,
   "metadata": {},
   "outputs": [],
   "source": [
    "def process_image(img):\n",
    "    \"\"\"Resize, reduce and expand image.\n",
    "\n",
    "    # Argument:\n",
    "        img: original image.\n",
    "\n",
    "    # Returns\n",
    "        image_org: ndarray(64, 64, 3), processed image.\n",
    "    \"\"\"\n",
    "    image_org = cv2.resize(img, (416, 416),\n",
    "                       interpolation=cv2.INTER_CUBIC)\n",
    "    image_org = np.array(image_org, dtype='float32')\n",
    "    image_org /= 255.\n",
    "    image_org = np.expand_dims(image_org, axis=0)\n",
    "\n",
    "    return image_org"
   ]
  },
  {
   "cell_type": "code",
   "execution_count": 3,
   "metadata": {},
   "outputs": [],
   "source": [
    "def get_classes(file):\n",
    "    \"\"\"Get classes name.\n",
    "\n",
    "    # Argument:\n",
    "        file: classes name for database.\n",
    "\n",
    "    # Returns\n",
    "        name_of_class: List, classes name.\n",
    "\n",
    "    \"\"\"\n",
    "    with open(file) as f:\n",
    "        name_of_class = f.readlines()\n",
    "    name_of_class = [c.strip() for c in name_of_class]\n",
    "\n",
    "    return name_of_class"
   ]
  },
  {
   "cell_type": "code",
   "execution_count": 4,
   "metadata": {},
   "outputs": [],
   "source": [
    "def box_draw(image, boxes, scores, classes, all_classes):\n",
    "    \"\"\"Draw the boxes on the image.\n",
    "\n",
    "    # Argument:\n",
    "        image: original image.\n",
    "        boxes: ndarray, boxes of objects.\n",
    "        classes: ndarray, classes of objects.\n",
    "        scores: ndarray, scores of objects.\n",
    "        all_classes: all classes name.\n",
    "    \"\"\"\n",
    "    for box, score, cl in zip(boxes, scores, classes):\n",
    "        x, y, w, h = box\n",
    "\n",
    "        top = max(0, np.floor(x + 0.5).astype(int))\n",
    "        left = max(0, np.floor(y + 0.5).astype(int))\n",
    "        right = min(image.shape[1], np.floor(x + w + 0.5).astype(int))\n",
    "        bottom = min(image.shape[0], np.floor(y + h + 0.5).astype(int))\n",
    "\n",
    "        cv2.rectangle(image, (top, left), (right, bottom), (255, 0, 0), 2)\n",
    "        cv2.putText(image, '{0} {1:.2f}'.format(all_classes[cl], score),\n",
    "                    (top, left - 6),\n",
    "                    cv2.FONT_HERSHEY_SIMPLEX,\n",
    "                    0.6, (0, 0, 255), 1,\n",
    "                    cv2.LINE_AA)\n",
    "\n",
    "        print('class: {0}, score: {1:.2f}'.format(all_classes[cl], score))\n",
    "        print('box coordinate x,y,w,h: {0}'.format(box))\n",
    "\n",
    "    print()"
   ]
  },
  {
   "cell_type": "code",
   "execution_count": 5,
   "metadata": {},
   "outputs": [],
   "source": [
    "def detect_image(image, yolo, all_classes):\n",
    "    \"\"\"Use yolo v3 to detect images.\n",
    "\n",
    "    # Argument:\n",
    "        image: original image.\n",
    "        yolo: YOLO, yolo model.\n",
    "        all_classes: all classes name.\n",
    "\n",
    "    # Returns:\n",
    "        image: processed image.\n",
    "    \"\"\"\n",
    "    pimage = process_image(image)\n",
    "\n",
    "    start = time.time()\n",
    "    image_boxes, image_classes, image_scores = yolo.predict(pimage, image.shape)\n",
    "    end = time.time()\n",
    "\n",
    "    print('time: {0:.2f}s'.format(end - start))\n",
    "\n",
    "    if image_boxes is not None:\n",
    "        box_draw(image, image_boxes, image_scores, image_classes, all_classes)\n",
    "\n",
    "    return image"
   ]
  },
  {
   "cell_type": "code",
   "execution_count": 59,
   "metadata": {},
   "outputs": [],
   "source": [
    "def detect_video(video, yolo, all_classes):\n",
    "    \"\"\"Use yolo v3 to detect video.\n",
    "\n",
    "    # Argument:\n",
    "        video: video file.\n",
    "        yolo: YOLO, yolo model.\n",
    "        all_classes: all classes name.\n",
    "    \"\"\"\n",
    "    video_path = os.path.join(\"videos\", \"test\", video)\n",
    "    camera = cv2.VideoCapture(video_path)\n",
    "    cv2.namedWindow(\"detection\", cv2.WINDOW_AUTOSIZE)\n",
    "\n",
    "    # Prepare for saving the detected video\n",
    "    sz = (int(camera.get(cv2.CAP_PROP_FRAME_WIDTH)),\n",
    "        int(camera.get(cv2.CAP_PROP_FRAME_HEIGHT)))\n",
    "    fourcc = cv2.VideoWriter_fourcc(*'mpeg')\n",
    "\n",
    "    \n",
    "    vout = cv2.VideoWriter()\n",
    "    vout.open(os.path.join(\"videos\", \"res\", video), fourcc, 20, sz, True)\n",
    "\n",
    "    while True:\n",
    "        res, frame = camera.read()\n",
    "\n",
    "        if not res:\n",
    "            break\n",
    "\n",
    "        image = detect_image(frame, yolo, all_classes)\n",
    "        image = cv2.resize(image,(0,0), fx=0.5,fy=0.5)\n",
    "        cv2.imshow(\"detection\", image)\n",
    "\n",
    "        # Save the video frame by frame\n",
    "        vout.write(image)\n",
    "\n",
    "        if cv2.waitKey(110) & 0xff == 27:\n",
    "                break\n",
    "\n",
    "    vout.release()\n",
    "    camera.release()\n",
    "    cv2.destroyAllWindows()\n",
    "    "
   ]
  },
  {
   "cell_type": "code",
   "execution_count": 8,
   "metadata": {},
   "outputs": [
    {
     "name": "stdout",
     "output_type": "stream",
     "text": [
      "WARNING:tensorflow:No training configuration found in the save file, so the model was *not* compiled. Compile it manually.\n"
     ]
    }
   ],
   "source": [
    "yolo = YOLO(0.6, 0.5)\n",
    "file = 'data/coco_classes.txt'\n",
    "all_classes = get_classes(file)"
   ]
  },
  {
   "cell_type": "markdown",
   "metadata": {},
   "source": [
    "### Detecting Images"
   ]
  },
  {
   "cell_type": "code",
   "execution_count": 9,
   "metadata": {},
   "outputs": [
    {
     "data": {
      "text/plain": [
       "'1.19.2'"
      ]
     },
     "execution_count": 9,
     "metadata": {},
     "output_type": "execute_result"
    }
   ],
   "source": [
    "import numpy\n",
    "numpy.version.version"
   ]
  },
  {
   "cell_type": "code",
   "execution_count": 10,
   "metadata": {},
   "outputs": [],
   "source": [
    "f = 'bike2.jpg'\n",
    "path = 'images/test/bike2.jpg'\n",
    "image = cv2.imread(path)\n"
   ]
  },
  {
   "cell_type": "code",
   "execution_count": 14,
   "metadata": {},
   "outputs": [],
   "source": [
    "#image = cv2.imread('images/test/person.jpg')"
   ]
  },
  {
   "cell_type": "code",
   "execution_count": 11,
   "metadata": {},
   "outputs": [],
   "source": [
    "# image"
   ]
  },
  {
   "cell_type": "code",
   "execution_count": 36,
   "metadata": {},
   "outputs": [
    {
     "name": "stdout",
     "output_type": "stream",
     "text": [
      "time: 0.65s\n",
      "class: motorbike, score: 1.00\n",
      "box coordinate x,y,w,h: [ 40.6100688  116.55529404 412.78901625 376.64705729]\n",
      "\n"
     ]
    },
    {
     "data": {
      "text/plain": [
       "True"
      ]
     },
     "execution_count": 36,
     "metadata": {},
     "output_type": "execute_result"
    }
   ],
   "source": [
    "image = detect_image(image, yolo, all_classes)\n",
    "cv2.imwrite('images/res/' + f, image)"
   ]
  },
  {
   "cell_type": "code",
   "execution_count": 39,
   "metadata": {},
   "outputs": [],
   "source": [
    "cv2.namedWindow(\"image\", cv2.WINDOW_NORMAL)\n",
    "cv2.imshow('image',image)\n",
    "cv2.waitKey()\n",
    "cv2.destroyAllWindows()"
   ]
  },
  {
   "cell_type": "markdown",
   "metadata": {},
   "source": [
    "# Detecting on Video"
   ]
  },
  {
   "cell_type": "code",
   "execution_count": 60,
   "metadata": {},
   "outputs": [
    {
     "name": "stdout",
     "output_type": "stream",
     "text": [
      "time: 0.52s\n",
      "class: person, score: 1.00\n",
      "box coordinate x,y,w,h: [422.23278522 476.16264343 173.45147252 374.28131104]\n",
      "class: bicycle, score: 0.99\n",
      "box coordinate x,y,w,h: [369.07299042 635.68237305 295.8633399  255.98875046]\n",
      "\n",
      "time: 0.32s\n",
      "class: person, score: 1.00\n",
      "box coordinate x,y,w,h: [401.12045288 476.81549072 175.63258052 369.44412231]\n",
      "class: bicycle, score: 0.99\n",
      "box coordinate x,y,w,h: [333.17790985 629.88769531 318.90304327 263.77016068]\n",
      "\n",
      "time: 0.33s\n",
      "class: person, score: 1.00\n",
      "box coordinate x,y,w,h: [387.98526764 483.2711792  185.45423985 369.34688568]\n",
      "class: bicycle, score: 0.99\n",
      "box coordinate x,y,w,h: [319.77171421 671.82182312 346.407938   246.46852493]\n",
      "\n",
      "time: 0.33s\n",
      "class: person, score: 1.00\n",
      "box coordinate x,y,w,h: [387.64138699 482.35279083 184.81748343 358.74885559]\n",
      "class: bicycle, score: 0.99\n",
      "box coordinate x,y,w,h: [320.5562067  649.5803833  330.62790155 247.7507782 ]\n",
      "\n",
      "time: 0.32s\n",
      "class: person, score: 1.00\n",
      "box coordinate x,y,w,h: [380.89543819 481.66240692 191.67005539 367.69477844]\n",
      "class: bicycle, score: 0.99\n",
      "box coordinate x,y,w,h: [309.51986074 675.86013794 346.84769154 242.96495438]\n",
      "\n",
      "time: 0.32s\n",
      "class: person, score: 1.00\n",
      "box coordinate x,y,w,h: [379.00510311 473.30821991 190.52839994 383.92250061]\n",
      "class: bicycle, score: 1.00\n",
      "box coordinate x,y,w,h: [307.20421314 666.54602051 354.51243639 260.42491913]\n",
      "\n",
      "time: 0.32s\n",
      "class: person, score: 1.00\n",
      "box coordinate x,y,w,h: [374.89552975 472.15553284 198.64774704 394.3088913 ]\n",
      "class: bicycle, score: 0.99\n",
      "box coordinate x,y,w,h: [296.85625076 668.61869812 377.72686958 262.31367111]\n",
      "\n",
      "time: 0.33s\n",
      "class: person, score: 1.00\n",
      "box coordinate x,y,w,h: [380.87818623 464.28733826 196.19017839 420.35263062]\n",
      "class: bicycle, score: 0.99\n",
      "box coordinate x,y,w,h: [296.01819992 663.31504822 386.01167679 279.13911819]\n",
      "\n",
      "time: 0.32s\n",
      "class: person, score: 1.00\n",
      "box coordinate x,y,w,h: [386.71089649 455.44746399 193.64602804 441.9083786 ]\n",
      "class: bicycle, score: 0.99\n",
      "box coordinate x,y,w,h: [292.92621374 661.69250488 392.66050816 280.91770172]\n",
      "\n",
      "time: 0.32s\n",
      "class: person, score: 1.00\n",
      "box coordinate x,y,w,h: [390.13356686 472.00382233 180.80803156 413.70246887]\n",
      "class: bicycle, score: 0.99\n",
      "box coordinate x,y,w,h: [291.11598015 663.411026   397.87837029 279.2029953 ]\n",
      "\n",
      "time: 0.32s\n",
      "class: person, score: 1.00\n",
      "box coordinate x,y,w,h: [391.7975235  471.66358948 180.27573109 423.15692902]\n",
      "class: person, score: 0.67\n",
      "box coordinate x,y,w,h: [359.95343685 596.27761841 292.8371644  307.76721954]\n",
      "class: bicycle, score: 0.99\n",
      "box coordinate x,y,w,h: [286.42788649 658.4009552  414.30305958 288.26435089]\n",
      "\n",
      "time: 0.32s\n",
      "class: person, score: 0.98\n",
      "box coordinate x,y,w,h: [414.61621284 473.81988525 193.32268238 411.58420563]\n",
      "class: bicycle, score: 0.99\n",
      "box coordinate x,y,w,h: [293.87586594 657.04948425 400.58169365 296.33565903]\n",
      "\n",
      "time: 0.31s\n",
      "class: person, score: 0.99\n",
      "box coordinate x,y,w,h: [413.53989601 467.84889221 199.61862087 420.47672272]\n",
      "class: bicycle, score: 0.99\n",
      "box coordinate x,y,w,h: [268.3485961  683.67599487 475.67097187 270.28612137]\n",
      "\n",
      "time: 0.32s\n",
      "class: person, score: 0.99\n",
      "box coordinate x,y,w,h: [419.27312851 467.10411072 191.67063475 425.72055817]\n",
      "class: bicycle, score: 0.99\n",
      "box coordinate x,y,w,h: [266.40081882 676.74514771 483.48847389 284.49094772]\n",
      "\n",
      "time: 0.32s\n",
      "class: person, score: 0.97\n",
      "box coordinate x,y,w,h: [423.15216064 477.66212463 186.36020422 403.96709442]\n",
      "class: bicycle, score: 0.99\n",
      "box coordinate x,y,w,h: [281.494596   677.88719177 461.41312122 290.4237175 ]\n",
      "\n",
      "time: 0.31s\n",
      "class: person, score: 0.96\n",
      "box coordinate x,y,w,h: [413.45689774 441.77078247 211.76374912 480.16666412]\n",
      "class: bicycle, score: 0.99\n",
      "box coordinate x,y,w,h: [270.20412683 677.81303406 484.08504009 291.0026741 ]\n",
      "\n",
      "time: 0.33s\n",
      "class: person, score: 0.94\n",
      "box coordinate x,y,w,h: [369.02410984 509.54872131 292.15579748 430.77651978]\n",
      "class: bicycle, score: 0.99\n",
      "box coordinate x,y,w,h: [278.70512009 640.93269348 461.92454338 349.37343597]\n",
      "\n",
      "time: 0.32s\n",
      "class: person, score: 0.91\n",
      "box coordinate x,y,w,h: [363.99936676 509.34577942 296.0982585  431.01047516]\n",
      "class: bicycle, score: 0.99\n",
      "box coordinate x,y,w,h: [278.91967535 643.06793213 459.12324429 350.75466156]\n",
      "\n",
      "time: 0.31s\n",
      "class: person, score: 0.95\n",
      "box coordinate x,y,w,h: [339.11677122 506.22806549 299.88663197 449.60960388]\n",
      "class: bicycle, score: 0.99\n",
      "box coordinate x,y,w,h: [276.06831551 640.82870483 459.25435066 349.59518433]\n",
      "\n",
      "time: 0.32s\n",
      "class: person, score: 0.96\n",
      "box coordinate x,y,w,h: [334.85939741 511.61678314 293.35543156 445.6615448 ]\n",
      "class: bicycle, score: 0.99\n",
      "box coordinate x,y,w,h: [283.75061274 625.12432098 410.28481007 361.19651794]\n",
      "\n",
      "time: 0.31s\n",
      "class: person, score: 0.99\n",
      "box coordinate x,y,w,h: [372.05389023 434.14123535 215.63310385 494.89597321]\n",
      "class: bicycle, score: 0.99\n",
      "box coordinate x,y,w,h: [263.96279812 623.66027832 432.02138901 366.96651459]\n",
      "\n",
      "time: 0.31s\n",
      "class: person, score: 0.99\n",
      "box coordinate x,y,w,h: [359.5831418  447.17113495 230.56590557 464.16099548]\n",
      "class: bicycle, score: 0.99\n",
      "box coordinate x,y,w,h: [215.98855019 676.62757874 493.81090164 288.11483383]\n",
      "\n",
      "time: 0.33s\n",
      "class: person, score: 0.98\n",
      "box coordinate x,y,w,h: [343.24359655 463.98994446 244.61690426 437.64728546]\n",
      "class: bicycle, score: 0.99\n",
      "box coordinate x,y,w,h: [216.19613171 645.14907837 479.76016045 347.37575531]\n",
      "\n"
     ]
    }
   ],
   "source": [
    "# # detect videos one at a time in videos/test folder    \n",
    "video = 'library1.mp4'\n",
    "detect_video(video, yolo, all_classes)"
   ]
  },
  {
   "cell_type": "code",
   "execution_count": null,
   "metadata": {},
   "outputs": [],
   "source": [
    "# # detect videos one at a time in videos/test folder    \n",
    "video = 'video.mp4'\n",
    "detect_video(video, yolo, all_classes)"
   ]
  },
  {
   "cell_type": "code",
   "execution_count": 57,
   "metadata": {},
   "outputs": [],
   "source": [
    "cv2.destroyAllWindows()"
   ]
  },
  {
   "cell_type": "code",
   "execution_count": null,
   "metadata": {},
   "outputs": [],
   "source": [
    "\n"
   ]
  }
 ],
 "metadata": {
  "kernelspec": {
   "display_name": "Python 3 (ipykernel)",
   "language": "python",
   "name": "python3"
  },
  "language_info": {
   "codemirror_mode": {
    "name": "ipython",
    "version": 3
   },
   "file_extension": ".py",
   "mimetype": "text/x-python",
   "name": "python",
   "nbconvert_exporter": "python",
   "pygments_lexer": "ipython3",
   "version": "3.8.0"
  }
 },
 "nbformat": 4,
 "nbformat_minor": 2
}
