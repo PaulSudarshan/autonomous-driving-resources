{
 "cells": [
  {
   "cell_type": "markdown",
   "metadata": {},
   "source": [
    "### ENET FOR IMAGES"
   ]
  },
  {
   "cell_type": "code",
   "execution_count": 108,
   "metadata": {},
   "outputs": [],
   "source": [
    "# !pip install --user imutils"
   ]
  },
  {
   "cell_type": "code",
   "execution_count": 114,
   "metadata": {},
   "outputs": [],
   "source": [
    "# import the necessary packages\n",
    "import numpy as np\n",
    "import matplotlib.pyplot as plt\n",
    "import argparse\n",
    "import imutils\n",
    "import time\n",
    "import cv2\n",
    "import os"
   ]
  },
  {
   "cell_type": "code",
   "execution_count": 115,
   "metadata": {},
   "outputs": [],
   "source": [
    "start = time.time()\n",
    "SET_WIDTH = int(600)\n",
    "\n",
    "normalize_image = 1 / 255.0\n",
    "resize_image_shape = (1024, 512)\n",
    "\n",
    "sample_img = cv2.imread('./images/example_02.jpg')\n",
    "sample_img = imutils.resize(sample_img, width=SET_WIDTH)\n",
    "\n",
    "blob_img = cv2.dnn.blobFromImage(sample_img, normalize_image, resize_image_shape, 0,swapRB=True, crop=False)"
   ]
  },
  {
   "cell_type": "code",
   "execution_count": 116,
   "metadata": {},
   "outputs": [
    {
     "name": "stdout",
     "output_type": "stream",
     "text": [
      "(300, 600, 3)\n",
      "(1, 3, 512, 1024)\n"
     ]
    }
   ],
   "source": [
    "print(sample_img.shape)\n",
    "print(blob_img.shape)"
   ]
  },
  {
   "cell_type": "code",
   "execution_count": 117,
   "metadata": {},
   "outputs": [
    {
     "name": "stdout",
     "output_type": "stream",
     "text": [
      "[INFO] loading model...\n"
     ]
    }
   ],
   "source": [
    "print(\"[INFO] loading model...\")\n",
    "cv_enet_model = cv2.dnn.readNet('./enet-cityscapes/enet-model.net')"
   ]
  },
  {
   "cell_type": "code",
   "execution_count": 118,
   "metadata": {},
   "outputs": [
    {
     "data": {
      "text/plain": [
       "(1, 20, 512, 1024)"
      ]
     },
     "execution_count": 118,
     "metadata": {},
     "output_type": "execute_result"
    }
   ],
   "source": [
    "cv_enet_model.setInput(blob_img)\n",
    "\n",
    "cv_enet_model_output = cv_enet_model.forward()\n",
    "cv_enet_model_output.shape\n",
    "# cv_enet_model_output[0].shape"
   ]
  },
  {
   "cell_type": "code",
   "execution_count": 119,
   "metadata": {},
   "outputs": [],
   "source": [
    "label_values = open('./enet-cityscapes/enet-classes.txt').read().strip().split(\"\\n\")"
   ]
  },
  {
   "cell_type": "code",
   "execution_count": 120,
   "metadata": {},
   "outputs": [],
   "source": [
    "IMG_OUTPUT_SHAPE_START =1\n",
    "IMG_OUTPUT_SHAPE_END =4\n",
    "(classes_num, h, w) = cv_enet_model_output.shape[IMG_OUTPUT_SHAPE_START:IMG_OUTPUT_SHAPE_END]"
   ]
  },
  {
   "cell_type": "code",
   "execution_count": 121,
   "metadata": {},
   "outputs": [
    {
     "data": {
      "text/plain": [
       "512"
      ]
     },
     "execution_count": 121,
     "metadata": {},
     "output_type": "execute_result"
    }
   ],
   "source": [
    "class_map = np.argmax(cv_enet_model_output[0], axis=0)\n",
    "len(class_map)\n"
   ]
  },
  {
   "cell_type": "code",
   "execution_count": 122,
   "metadata": {},
   "outputs": [],
   "source": [
    "import os\n",
    "if os.path.isfile('./enet-cityscapes/enet-colors.txt'):\n",
    "    CV_ENET_SHAPE_IMG_COLORS = open('./enet-cityscapes/enet-colors.txt').read().strip().split(\"\\n\")\n",
    "    CV_ENET_SHAPE_IMG_COLORS = [np.array(c.split(\",\")).astype(\"int\") for c in CV_ENET_SHAPE_IMG_COLORS]\n",
    "    CV_ENET_SHAPE_IMG_COLORS = np.array(CV_ENET_SHAPE_IMG_COLORS, dtype=\"uint8\")\n",
    "\n",
    "else:\n",
    "   \n",
    "    np.random.seed(42)\n",
    "    CV_ENET_SHAPE_IMG_COLORS = np.random.randint(0, 255, size=(len(label_values) - 1, 3),\n",
    "                               dtype=\"uint8\")\n",
    "    CV_ENET_SHAPE_IMG_COLORS = np.vstack([[0, 0, 0], CV_ENET_SHAPE_IMG_COLORS]).astype(\"uint8\")\n",
    "\n",
    "# print(CV_ENET_SHAPE_IMG_COLORS)\n",
    "# CV_ENET_SHAPE_IMG_COLORS[[0,3]]"
   ]
  },
  {
   "cell_type": "code",
   "execution_count": 123,
   "metadata": {},
   "outputs": [],
   "source": [
    "mask_class_map = CV_ENET_SHAPE_IMG_COLORS[class_map]\n",
    "# mask_class_map"
   ]
  },
  {
   "cell_type": "code",
   "execution_count": 124,
   "metadata": {},
   "outputs": [],
   "source": [
    "mask_class_map = cv2.resize(mask_class_map, (sample_img.shape[1], sample_img.shape[0]),\n",
    "                  interpolation=cv2.INTER_NEAREST)\n",
    "\n",
    "class_map = cv2.resize(mask_class_map, (sample_img.shape[1], sample_img.shape[0]),\n",
    "                      interpolation=cv2.INTER_NEAREST)"
   ]
  },
  {
   "cell_type": "code",
   "execution_count": 125,
   "metadata": {},
   "outputs": [],
   "source": [
    "cv_enet_model_output = ((0.4 * sample_img) + (0.6 * mask_class_map)).astype(\"uint8\")"
   ]
  },
  {
   "cell_type": "code",
   "execution_count": 126,
   "metadata": {},
   "outputs": [],
   "source": [
    "my_legend = np.zeros(((len(label_values) * 25) + 25, 300, 3), dtype=\"uint8\")"
   ]
  },
  {
   "cell_type": "code",
   "execution_count": 127,
   "metadata": {},
   "outputs": [],
   "source": [
    "for (i, (class_name, img_color)) in enumerate(zip(label_values, CV_ENET_SHAPE_IMG_COLORS)):\n",
    "    # draw the class name + color on the legend\n",
    "    color_info = [int(color) for color in img_color]\n",
    "    cv2.putText(my_legend, class_name, (5, (i * 25) + 17),\n",
    "                cv2.FONT_HERSHEY_SIMPLEX, 0.5, (0, 0, 255), 2)\n",
    "    cv2.rectangle(my_legend, (100, (i * 25)), (300, (i * 25) + 25),\n",
    "                  tuple(color_info), -1)"
   ]
  },
  {
   "cell_type": "code",
   "execution_count": 128,
   "metadata": {},
   "outputs": [
    {
     "name": "stdout",
     "output_type": "stream",
     "text": [
      "[INFO] inference took 35.4877 seconds\n"
     ]
    }
   ],
   "source": [
    "cv2.imshow(\"My_Legend\", my_legend)\n",
    "cv2.imshow(\"Img_Input\", sample_img)\n",
    "cv2.imshow(\"CV_Model_Output_weighted\", cv_enet_model_output)\n",
    "cv2.imshow(\"CV_Model_Output\", mask_class_map)\n",
    "cv2.waitKey(0)\n",
    "cv2.destroyAllWindows()\n",
    "\n",
    "end = time.time()\n",
    "print(\"[INFO] inference took {:.4f} seconds\".format(end - start))\n"
   ]
  },
  {
   "cell_type": "markdown",
   "metadata": {},
   "source": [
    "### ENET FOR VIDEOS"
   ]
  },
  {
   "cell_type": "code",
   "execution_count": 103,
   "metadata": {},
   "outputs": [],
   "source": [
    "import os\n",
    "import time\n",
    "import cv2\n",
    "import imutils\n",
    "import numpy as np\n",
    "\n",
    "\n",
    "DEFAULT_FRAME = 1\n",
    "SET_WIDTH = 600"
   ]
  },
  {
   "cell_type": "code",
   "execution_count": 104,
   "metadata": {},
   "outputs": [],
   "source": [
    "class_labels = open('./enet-cityscapes/enet-classes.txt').read().strip().split(\"\\n\")"
   ]
  },
  {
   "cell_type": "code",
   "execution_count": 105,
   "metadata": {},
   "outputs": [],
   "source": [
    "if os.path.isfile('./enet-cityscapes/enet-colors.txt'):\n",
    "    CV_ENET_SHAPE_IMG_COLORS = open('./enet-cityscapes/enet-colors.txt').read().strip().split(\"\\n\")\n",
    "    CV_ENET_SHAPE_IMG_COLORS = [np.array(c.split(\",\")).astype(\"int\") for c in CV_ENET_SHAPE_IMG_COLORS]\n",
    "    CV_ENET_SHAPE_IMG_COLORS = np.array(CV_ENET_SHAPE_IMG_COLORS, dtype=\"uint8\")\n",
    "\n",
    "else:\n",
    "    \n",
    "    np.random.seed(42)\n",
    "    CV_ENET_SHAPE_IMG_COLORS = np.random.randint(0, 255, size=(len(class_labels) - 1, 3),\n",
    "                               dtype=\"uint8\")\n",
    "    CV_ENET_SHAPE_IMG_COLORS = np.vstack([[0, 0, 0], CV_ENET_SHAPE_IMG_COLORS]).astype(\"uint8\")"
   ]
  },
  {
   "cell_type": "code",
   "execution_count": 106,
   "metadata": {},
   "outputs": [
    {
     "name": "stdout",
     "output_type": "stream",
     "text": [
      "[INFO] loading model...\n"
     ]
    }
   ],
   "source": [
    "print(\"[INFO] loading model...\")\n",
    "cv_enet_model = cv2.dnn.readNet('./enet-cityscapes/enet-model.net')"
   ]
  },
  {
   "cell_type": "code",
   "execution_count": 130,
   "metadata": {},
   "outputs": [],
   "source": [
    "sv = cv2.VideoCapture('.//video/taxi.mp4')\n",
    "sample_video_writer = None"
   ]
  },
  {
   "cell_type": "code",
   "execution_count": 131,
   "metadata": {},
   "outputs": [
    {
     "name": "stdout",
     "output_type": "stream",
     "text": [
      "<VideoCapture 0000023809CA6470>\n"
     ]
    }
   ],
   "source": [
    "print(sv)"
   ]
  },
  {
   "cell_type": "code",
   "execution_count": 132,
   "metadata": {},
   "outputs": [],
   "source": [
    "prop = cv2.cv.CV_CAP_PROP_FRAME_COUNT if imutils.is_cv2() \\\n",
    "        else cv2.CAP_PROP_FRAME_COUNT"
   ]
  },
  {
   "cell_type": "code",
   "execution_count": 133,
   "metadata": {},
   "outputs": [],
   "source": [
    "total = int(sv.get(prop))"
   ]
  },
  {
   "cell_type": "code",
   "execution_count": 134,
   "metadata": {},
   "outputs": [
    {
     "data": {
      "text/plain": [
       "241"
      ]
     },
     "execution_count": 134,
     "metadata": {},
     "output_type": "execute_result"
    }
   ],
   "source": [
    "total"
   ]
  },
  {
   "cell_type": "code",
   "execution_count": 136,
   "metadata": {},
   "outputs": [
    {
     "name": "stdout",
     "output_type": "stream",
     "text": [
      "[INFO] 0 total frames in video\n",
      "[INFO] cleaning up...\n"
     ]
    }
   ],
   "source": [
    "\n",
    "# try to determine the total number of frames in the video file\n",
    "try:\n",
    "    prop = cv2.cv.CV_CAP_PROP_FRAME_COUNT if imutils.is_cv2() \\\n",
    "        else cv2.CAP_PROP_FRAME_COUNT\n",
    "    total = int(sv.get(prop))\n",
    "    print(\"[INFO] {} total frames in video\".format(total))\n",
    "\n",
    "# an error occurred while trying to determine the total\n",
    "# number of frames in the video file\n",
    "except:\n",
    "    print(\"[INFO] could not determine # of frames in video\")\n",
    "    total = -1\n",
    "#sample_video\n",
    "# loop over frames from the video file stream\n",
    "while True:\n",
    "    # read the next frame from the file\n",
    "    (grabbed, frame) = sv.read()\n",
    "\n",
    "    # if the frame was not grabbed, then we have reached the end\n",
    "    # of the stream\n",
    "    if not grabbed:\n",
    "        break\n",
    "\n",
    "    # construct a blob from the frame and perform a forward pass\n",
    "    # using the segmentation model\n",
    "    normalize_image = 1 / 255.0\n",
    "    resize_image_shape = (1024, 512)\n",
    "    video_frame = imutils.resize(frame, width=SET_WIDTH)\n",
    "    blob_img = cv2.dnn.blobFromImage(frame,  normalize_image,resize_image_shape, 0,\n",
    "                                 swapRB=True, crop=False)\n",
    "    cv_enet_model.setInput(blob_img)\n",
    "    start = time.time()\n",
    "    cv_enet_model_output = cv_enet_model.forward()\n",
    "    end = time.time()\n",
    "\n",
    "    # infer the total number of classes along with the spatial\n",
    "    # dimensions of the mask image via the shape of the output array\n",
    "    (Classes_num, height, width) = cv_enet_model_output.shape[1:4]\n",
    "\n",
    "    # our output class ID map will be num_classes x height x width in\n",
    "    # size, so we take the argmax to find the class label with the\n",
    "    # largest probability for each and every (x, y)-coordinate in the\n",
    "    # image\n",
    "    classMap = np.argmax(cv_enet_model_output[0], axis=0)\n",
    "\n",
    "    # given the class ID map, we can map each of the class IDs to its\n",
    "    # corresponding color\n",
    "    \n",
    "    mask_class_map = CV_ENET_SHAPE_IMG_COLORS[classMap]\n",
    "\n",
    "    # resize the mask such that its dimensions match the original size\n",
    "    # of the input frame\n",
    "    \n",
    "    \n",
    "    mask_class_map = cv2.resize(mask_class_map, (video_frame.shape[1], video_frame.shape[0]),\n",
    "                      interpolation=cv2.INTER_NEAREST)\n",
    "\n",
    "    # perform a weighted combination of the input frame with the mask\n",
    "    # to form an output visualization\n",
    "    \n",
    "    \n",
    "    cv_enet_model_output = ((0.3 * video_frame) + (0.7 * mask_class_map)).astype(\"uint8\")\n",
    "\n",
    "    # check if the video writer is None\n",
    "    if sample_video_writer is None:\n",
    "        print(\"sample_video_writer is None\")\n",
    "        # initialize our video writer\n",
    "        fourcc_obj = cv2.VideoWriter_fourcc(*\"MJPG\")\n",
    "\n",
    "        sample_video_writer = cv2.VideoWriter('./output/output_toronoto.avi', fourcc_obj, 15,\n",
    "                                 (cv_enet_model_output.shape[1], cv_enet_model_output.shape[0]), True)\n",
    "\n",
    "        # some information on processing single frame\n",
    "        if total > 0:\n",
    "            \n",
    "            execution_time = (end - start)\n",
    "            print(\"[INFO] single video_frame took {:.4f} seconds\".format(execution_time))\n",
    "\n",
    "            print(\"[INFO] estimated total_time time: {:.4f}\".format(\n",
    "                execution_time * total))\n",
    "\n",
    "    # write the output frame to disk\n",
    "    \n",
    "    sample_video_writer.write(cv_enet_model_output)\n",
    "\n",
    "    # check to see if we should display the output frame to our screen\n",
    "    if DEFAULT_FRAME > 0:\n",
    "        cv2.imshow(\"Video Frame\", cv_enet_model_output)\n",
    "        cv2.imshow(\"My_Legend\", my_legend)\n",
    "        key = cv2.waitKey(1) & 0xFF\n",
    "        \n",
    "        if key == ord(\"q\"):\n",
    "            break\n",
    "\n",
    "print(\"[INFO] cleaning up...\")\n",
    "sample_video_writer.release()\n",
    "sv.release()\n",
    "cv2.destroyAllWindows()"
   ]
  },
  {
   "cell_type": "code",
   "execution_count": null,
   "metadata": {},
   "outputs": [],
   "source": []
  },
  {
   "cell_type": "code",
   "execution_count": null,
   "metadata": {},
   "outputs": [],
   "source": []
  },
  {
   "cell_type": "code",
   "execution_count": null,
   "metadata": {},
   "outputs": [],
   "source": []
  }
 ],
 "metadata": {
  "kernelspec": {
   "display_name": "Python 3 (ipykernel)",
   "language": "python",
   "name": "python3"
  },
  "language_info": {
   "codemirror_mode": {
    "name": "ipython",
    "version": 3
   },
   "file_extension": ".py",
   "mimetype": "text/x-python",
   "name": "python",
   "nbconvert_exporter": "python",
   "pygments_lexer": "ipython3",
   "version": "3.8.0"
  }
 },
 "nbformat": 4,
 "nbformat_minor": 4
}
